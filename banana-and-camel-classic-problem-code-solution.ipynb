{
 "cells": [
  {
   "cell_type": "markdown",
   "id": "13218a04",
   "metadata": {
    "_cell_guid": "b1076dfc-b9ad-4769-8c92-a6c4dae69d19",
    "_uuid": "8f2839f25d086af736a60e9eeb907d3b93b6e0e5",
    "papermill": {
     "duration": 0.0039,
     "end_time": "2024-06-19T05:52:50.058118",
     "exception": false,
     "start_time": "2024-06-19T05:52:50.054218",
     "status": "completed"
    },
    "tags": []
   },
   "source": [
    "We are trying to code to solve the classic problem of banana and camel.\n",
    "\n",
    "In this problem a merchant needs to carry 3000 bananas across a stretch of 1000km with the help of his camel.\n",
    "But the problem is thhe camel can only carry 1000 bananas at a time, and needs to eat 1 banana from that pile per km it walk.\n",
    "\n",
    "So obviously we cant load a 1000 bananas and walk the 1000km as we would reach with exactly zero.\n",
    "Let's take in constraints form the user itself."
   ]
  },
  {
   "cell_type": "code",
   "execution_count": 1,
   "id": "085865a8",
   "metadata": {
    "execution": {
     "iopub.execute_input": "2024-06-19T05:52:50.067652Z",
     "iopub.status.busy": "2024-06-19T05:52:50.067068Z",
     "iopub.status.idle": "2024-06-19T05:52:50.082591Z",
     "shell.execute_reply": "2024-06-19T05:52:50.081345Z"
    },
    "papermill": {
     "duration": 0.02344,
     "end_time": "2024-06-19T05:52:50.084903",
     "exception": false,
     "start_time": "2024-06-19T05:52:50.061463",
     "status": "completed"
    },
    "tags": []
   },
   "outputs": [
    {
     "name": "stdout",
     "output_type": "stream",
     "text": [
      "d_tot = 1000, b_tot = 3000, camel capacity = 1000, b_per_km = 1\n"
     ]
    }
   ],
   "source": [
    "#use this to put in your custom settings\n",
    "'''d_tot = int(input('total distance to cover in km: ')) \n",
    "b_tot = int(input('total bananas to take: '))\n",
    "c = int(input('camel capacity to lift banana: '))\n",
    "b_per_km = int(input('how many banana camel eat per km: '))'''\n",
    "#for showcasing the code, we use the following setting:\n",
    "d_tot = 1000\n",
    "b_tot = 3000\n",
    "c = 1000\n",
    "b_per_km = 1\n",
    "print(f'd_tot = {d_tot}, b_tot = {b_tot}, camel capacity = {c}, b_per_km = {b_per_km}')"
   ]
  },
  {
   "cell_type": "markdown",
   "id": "8ebd7400",
   "metadata": {
    "papermill": {
     "duration": 0.002892,
     "end_time": "2024-06-19T05:52:50.091116",
     "exception": false,
     "start_time": "2024-06-19T05:52:50.088224",
     "status": "completed"
    },
    "tags": []
   },
   "source": [
    "ok, now we have the constraints.\n",
    "\n",
    "you should try to solve the question without the code once (with lets say distance 5km, banana 15, capacity 5 banana and b_per_km 1 banana)\n",
    "\n",
    "[answer: 2]\n",
    "\n",
    "the logic we will apply is we should load the camel max, cuz even if we load less number of bananas it gonna eat same number of bananas per km.\n",
    "\n",
    "so if for a capacity of 1000:\n",
    "\n",
    "we need to give 5 bananas per km for 3000 banans (go and come back twice and take last 1000 in one go) (assuming camel eats only 1 banana per km.)\n",
    "\n",
    "but for 3555 bananas we need to give it 7 per km (work it out.\n",
    "\n",
    "So we reduce it to 3000 (a multiple of our capacity) by travelling 7 banana per km, and from there on we only need to supply 5 banana per km (as we need to make less circles of going back to pick rest of the banana)"
   ]
  },
  {
   "cell_type": "code",
   "execution_count": 2,
   "id": "6ed1e578",
   "metadata": {
    "execution": {
     "iopub.execute_input": "2024-06-19T05:52:50.098811Z",
     "iopub.status.busy": "2024-06-19T05:52:50.098413Z",
     "iopub.status.idle": "2024-06-19T05:52:50.103501Z",
     "shell.execute_reply": "2024-06-19T05:52:50.102403Z"
    },
    "papermill": {
     "duration": 0.011717,
     "end_time": "2024-06-19T05:52:50.105873",
     "exception": false,
     "start_time": "2024-06-19T05:52:50.094156",
     "status": "completed"
    },
    "tags": []
   },
   "outputs": [],
   "source": [
    "b_max = 0 #global\n",
    "d_rem = d_tot\n",
    "b_rem = b_tot"
   ]
  },
  {
   "cell_type": "code",
   "execution_count": 3,
   "id": "d06eb590",
   "metadata": {
    "execution": {
     "iopub.execute_input": "2024-06-19T05:52:50.113979Z",
     "iopub.status.busy": "2024-06-19T05:52:50.113547Z",
     "iopub.status.idle": "2024-06-19T05:52:50.124047Z",
     "shell.execute_reply": "2024-06-19T05:52:50.122793Z"
    },
    "papermill": {
     "duration": 0.017317,
     "end_time": "2024-06-19T05:52:50.126493",
     "exception": false,
     "start_time": "2024-06-19T05:52:50.109176",
     "status": "completed"
    },
    "tags": []
   },
   "outputs": [
    {
     "name": "stdout",
     "output_type": "stream",
     "text": [
      "initially: brem 3000 d_rem 1000\n",
      "brem 2000 d_rem 800.0\n",
      "brem 1000 d_rem 466.6666666666667\n",
      "max banana we can carry is 533.3333333333333\n"
     ]
    }
   ],
   "source": [
    "print (f'initially: brem {b_rem} d_rem {d_rem}')\n",
    "if b_rem%c != 0: #check if bananas are a multiple of c\n",
    "       if  (b_rem%c) >=  (((b_rem*b_per_km/c)*2) + 1): #checking if it is worth it to carry the remainder and pay extra bananas for it\n",
    "           ban_carry = b_rem%c\n",
    "           a = ((b_rem*b_per_km/c)*2) + 1\n",
    "           distance_cover = ban_carry/a\n",
    "           d_rem = d_rem - distance_cover\n",
    "           b_rem = b_rem - ban_carry\n",
    "           print (f'brem {b_rem} d_rem {d_rem}')\n",
    "       else:\n",
    "           b_rem = b_rem - b_rem%c #else we leave the remainder if price of bananas carrying is too high\n",
    "           print (f'brem {b_rem} d_rem {d_rem}')\n",
    "\n",
    "while b_rem > c:\n",
    "    ban_carry = c\n",
    "    a = ((b_rem*b_per_km/c)*2) - 1\n",
    "    distance_cover = ban_carry/a\n",
    "    d_rem = d_rem - distance_cover\n",
    "    b_rem = b_rem - ban_carry\n",
    "    print (f'brem {b_rem} d_rem {d_rem}')\n",
    "\n",
    "if b_rem == c:\n",
    "    b_rem = b_rem - d_rem*b_per_km\n",
    "    d_rem = 0\n",
    "    print (f'max banana we can carry is {b_rem}')\n",
    "# we put print to see the process"
   ]
  },
  {
   "cell_type": "markdown",
   "id": "eb365259",
   "metadata": {
    "papermill": {
     "duration": 0.00306,
     "end_time": "2024-06-19T05:52:50.133017",
     "exception": false,
     "start_time": "2024-06-19T05:52:50.129957",
     "status": "completed"
    },
    "tags": []
   },
   "source": [
    "You can try it out with any custom settings and have fun with it!\n",
    "\n",
    "This such simple logic took a while to come across, and I didnt do it all on my own. So please don't be upset if your own solution was a bit longer and tedious (mine went into so many infinite loops it was crazy! i even ran out of memory a few times).\n",
    "\n",
    "And if you have a better method, or an improve, please suggest!\n",
    "Constructive criticism welcome, and thanks for reading! :)"
   ]
  },
  {
   "cell_type": "code",
   "execution_count": null,
   "id": "e298e692",
   "metadata": {
    "papermill": {
     "duration": 0.002997,
     "end_time": "2024-06-19T05:52:50.139271",
     "exception": false,
     "start_time": "2024-06-19T05:52:50.136274",
     "status": "completed"
    },
    "tags": []
   },
   "outputs": [],
   "source": []
  }
 ],
 "metadata": {
  "kaggle": {
   "accelerator": "none",
   "dataSources": [],
   "dockerImageVersionId": 30732,
   "isGpuEnabled": false,
   "isInternetEnabled": true,
   "language": "python",
   "sourceType": "notebook"
  },
  "kernelspec": {
   "display_name": "Python 3",
   "language": "python",
   "name": "python3"
  },
  "language_info": {
   "codemirror_mode": {
    "name": "ipython",
    "version": 3
   },
   "file_extension": ".py",
   "mimetype": "text/x-python",
   "name": "python",
   "nbconvert_exporter": "python",
   "pygments_lexer": "ipython3",
   "version": "3.10.13"
  },
  "papermill": {
   "default_parameters": {},
   "duration": 3.47582,
   "end_time": "2024-06-19T05:52:50.463096",
   "environment_variables": {},
   "exception": null,
   "input_path": "__notebook__.ipynb",
   "output_path": "__notebook__.ipynb",
   "parameters": {},
   "start_time": "2024-06-19T05:52:46.987276",
   "version": "2.5.0"
  }
 },
 "nbformat": 4,
 "nbformat_minor": 5
}
